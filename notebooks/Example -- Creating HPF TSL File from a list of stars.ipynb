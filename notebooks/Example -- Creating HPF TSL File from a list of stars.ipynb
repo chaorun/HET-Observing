{
 "cells": [
  {
   "cell_type": "markdown",
   "metadata": {},
   "source": [
    "# Example notebook: Creating an HPF TSL file for a list of stars\n",
    "\n",
    "- Creates a TSL file, see TSL file at the end\n",
    "- Reads in stars from a .csv file\n",
    "- Queries SIMBAD for fluxes and proper motions\n",
    "- Accounts for proper motions at a given epoch\n",
    "- Creates FinderCharts that the Resident Astronomers / Telescope Operators like"
   ]
  },
  {
   "cell_type": "code",
   "execution_count": 1,
   "metadata": {},
   "outputs": [
    {
     "name": "stderr",
     "output_type": "stream",
     "text": [
      "WARNING: OldEarthOrientationDataWarning: Your version of the IERS Bulletin A is 18.0 days old. For best precision (on the order of arcseconds), you must download an up-to-date IERS Bulletin A table. To do so, run:\n",
      "\n",
      ">>> from astroplan import download_IERS_A\n",
      ">>> download_IERS_A()\n",
      " [astroplan.utils]\n"
     ]
    }
   ],
   "source": [
    "from __future__ import print_function\n",
    "import matplotlib.pyplot as plt\n",
    "import pandas as pd\n",
    "import numpy as np\n",
    "import astropy\n",
    "import sys\n",
    "%matplotlib inline\n",
    "\n",
    "sys.path.append(\"../src/\")\n",
    "\n",
    "import het_helper_functions\n",
    "import het_obs\n",
    "import astropy.units as u\n",
    "from astropy.coordinates import SkyCoord\n",
    "import getpass\n",
    "\n",
    "# Remove gks paths (not needed for anyone else)\n",
    "if getpass.getuser()==\"gks\":\n",
    "    try: sys.path.remove(\"/Users/gks/Dropbox/mypylib\")\n",
    "    except Exception as e:\n",
    "        print(\"Paths already removed\")"
   ]
  },
  {
   "cell_type": "markdown",
   "metadata": {},
   "source": [
    "# Read in data\n",
    "- Main columns are columns that contain the name, RA and DEC"
   ]
  },
  {
   "cell_type": "code",
   "execution_count": 2,
   "metadata": {},
   "outputs": [
    {
     "data": {
      "text/html": [
       "<div>\n",
       "<style scoped>\n",
       "    .dataframe tbody tr th:only-of-type {\n",
       "        vertical-align: middle;\n",
       "    }\n",
       "\n",
       "    .dataframe tbody tr th {\n",
       "        vertical-align: top;\n",
       "    }\n",
       "\n",
       "    .dataframe thead th {\n",
       "        text-align: right;\n",
       "    }\n",
       "</style>\n",
       "<table border=\"1\" class=\"dataframe\">\n",
       "  <thead>\n",
       "    <tr style=\"text-align: right;\">\n",
       "      <th></th>\n",
       "      <th>name</th>\n",
       "      <th>RAJ2000</th>\n",
       "      <th>DECJ2000</th>\n",
       "    </tr>\n",
       "  </thead>\n",
       "  <tbody>\n",
       "    <tr>\n",
       "      <th>0</th>\n",
       "      <td>Sigma Draconis</td>\n",
       "      <td>293.089958</td>\n",
       "      <td>69.661177</td>\n",
       "    </tr>\n",
       "    <tr>\n",
       "      <th>1</th>\n",
       "      <td>EK Cet</td>\n",
       "      <td>47.564467</td>\n",
       "      <td>5.908742</td>\n",
       "    </tr>\n",
       "    <tr>\n",
       "      <th>2</th>\n",
       "      <td>Wolf 359</td>\n",
       "      <td>164.120270</td>\n",
       "      <td>7.014658</td>\n",
       "    </tr>\n",
       "    <tr>\n",
       "      <th>3</th>\n",
       "      <td>GJ 699</td>\n",
       "      <td>269.452075</td>\n",
       "      <td>4.693391</td>\n",
       "    </tr>\n",
       "  </tbody>\n",
       "</table>\n",
       "</div>"
      ],
      "text/plain": [
       "             name     RAJ2000   DECJ2000\n",
       "0  Sigma Draconis  293.089958  69.661177\n",
       "1          EK Cet   47.564467   5.908742\n",
       "2        Wolf 359  164.120270   7.014658\n",
       "3          GJ 699  269.452075   4.693391"
      ]
     },
     "execution_count": 2,
     "metadata": {},
     "output_type": "execute_result"
    }
   ],
   "source": [
    "df = pd.read_csv(\"../data/hpf/targets/example_targets.csv\")\n",
    "df"
   ]
  },
  {
   "cell_type": "markdown",
   "metadata": {},
   "source": [
    "# Query Simbad\n",
    "- We are interested in getting the fluxes (i mag for HPF Manta Acquisition camera, and J-mag for HPF bandpass), and the proper motions \n",
    "- Proper motions are important, as HET requires the RA/DEC coordinates to be given in the current epoch, e.g., 2018.1"
   ]
  },
  {
   "cell_type": "code",
   "execution_count": 3,
   "metadata": {},
   "outputs": [
    {
     "name": "stdout",
     "output_type": "stream",
     "text": [
      "0 Sigma Draconis\n",
      "1 EK Cet\n",
      "2 Wolf 359\n",
      "3 GJ 699\n"
     ]
    },
    {
     "data": {
      "text/html": [
       "<div>\n",
       "<style scoped>\n",
       "    .dataframe tbody tr th:only-of-type {\n",
       "        vertical-align: middle;\n",
       "    }\n",
       "\n",
       "    .dataframe tbody tr th {\n",
       "        vertical-align: top;\n",
       "    }\n",
       "\n",
       "    .dataframe thead th {\n",
       "        text-align: right;\n",
       "    }\n",
       "</style>\n",
       "<table border=\"1\" class=\"dataframe\">\n",
       "  <thead>\n",
       "    <tr style=\"text-align: right;\">\n",
       "      <th></th>\n",
       "      <th>MAIN_ID</th>\n",
       "      <th>RA</th>\n",
       "      <th>DEC</th>\n",
       "      <th>RA_PREC</th>\n",
       "      <th>DEC_PREC</th>\n",
       "      <th>COO_ERR_MAJA</th>\n",
       "      <th>COO_ERR_MINA</th>\n",
       "      <th>COO_ERR_ANGLE</th>\n",
       "      <th>COO_QUAL</th>\n",
       "      <th>COO_WAVELENGTH</th>\n",
       "      <th>COO_BIBCODE</th>\n",
       "      <th>PMRA</th>\n",
       "      <th>PMDEC</th>\n",
       "      <th>RA_2_A_ICRS_J2018_07_2000</th>\n",
       "      <th>DEC_2_D_ICRS_J2018_07_2000</th>\n",
       "      <th>VMAG</th>\n",
       "      <th>RMAG</th>\n",
       "      <th>IMAG</th>\n",
       "      <th>JMAG</th>\n",
       "      <th>SIMBADNAME</th>\n",
       "    </tr>\n",
       "  </thead>\n",
       "  <tbody>\n",
       "    <tr>\n",
       "      <th>0</th>\n",
       "      <td>* sig Dra</td>\n",
       "      <td>19 32 21.5899</td>\n",
       "      <td>+69 39 40.236</td>\n",
       "      <td>8.0</td>\n",
       "      <td>8.0</td>\n",
       "      <td>0.976</td>\n",
       "      <td>0.694</td>\n",
       "      <td>0.0</td>\n",
       "      <td>A</td>\n",
       "      <td>O</td>\n",
       "      <td>2016A&amp;A...595A...2G</td>\n",
       "      <td>597.482</td>\n",
       "      <td>-1738.313</td>\n",
       "      <td>19 32 23.6597</td>\n",
       "      <td>+69 39 08.827</td>\n",
       "      <td>4.680</td>\n",
       "      <td>4.040</td>\n",
       "      <td>3.630</td>\n",
       "      <td>3.420</td>\n",
       "      <td>Sigma Draconis</td>\n",
       "    </tr>\n",
       "    <tr>\n",
       "      <th>0</th>\n",
       "      <td>V* EK Cet</td>\n",
       "      <td>03 10 15.4722</td>\n",
       "      <td>+05 54 31.471</td>\n",
       "      <td>8.0</td>\n",
       "      <td>8.0</td>\n",
       "      <td>0.299</td>\n",
       "      <td>0.239</td>\n",
       "      <td>90.0</td>\n",
       "      <td>A</td>\n",
       "      <td>O</td>\n",
       "      <td>2016A&amp;A...595A...2G</td>\n",
       "      <td>-122.104</td>\n",
       "      <td>-563.195</td>\n",
       "      <td>03 10 15.3243</td>\n",
       "      <td>+05 54 21.294</td>\n",
       "      <td>11.847</td>\n",
       "      <td>10.822</td>\n",
       "      <td>9.571</td>\n",
       "      <td>8.363</td>\n",
       "      <td>EK Cet</td>\n",
       "    </tr>\n",
       "    <tr>\n",
       "      <th>0</th>\n",
       "      <td>Wolf  359</td>\n",
       "      <td>10 56 28.865</td>\n",
       "      <td>+07 00 52.77</td>\n",
       "      <td>7.0</td>\n",
       "      <td>7.0</td>\n",
       "      <td>110.000</td>\n",
       "      <td>90.000</td>\n",
       "      <td>90.0</td>\n",
       "      <td>B</td>\n",
       "      <td>N</td>\n",
       "      <td>2003yCat.2246....0C</td>\n",
       "      <td>-3842.000</td>\n",
       "      <td>-2725.000</td>\n",
       "      <td>10 56 24.202</td>\n",
       "      <td>+07 00 03.53</td>\n",
       "      <td>13.507</td>\n",
       "      <td>11.684</td>\n",
       "      <td>9.507</td>\n",
       "      <td>7.085</td>\n",
       "      <td>Wolf 359</td>\n",
       "    </tr>\n",
       "    <tr>\n",
       "      <th>0</th>\n",
       "      <td>NAME Barnard's star</td>\n",
       "      <td>17 57 48.4980</td>\n",
       "      <td>+04 41 36.207</td>\n",
       "      <td>9.0</td>\n",
       "      <td>9.0</td>\n",
       "      <td>15.100</td>\n",
       "      <td>10.720</td>\n",
       "      <td>90.0</td>\n",
       "      <td>A</td>\n",
       "      <td>O</td>\n",
       "      <td>2007A&amp;A...474..653V</td>\n",
       "      <td>-798.580</td>\n",
       "      <td>10328.120</td>\n",
       "      <td>17 57 47.5326</td>\n",
       "      <td>+04 44 42.836</td>\n",
       "      <td>9.511</td>\n",
       "      <td>8.298</td>\n",
       "      <td>6.741</td>\n",
       "      <td>5.244</td>\n",
       "      <td>GJ 699</td>\n",
       "    </tr>\n",
       "  </tbody>\n",
       "</table>\n",
       "</div>"
      ],
      "text/plain": [
       "               MAIN_ID             RA            DEC  RA_PREC  DEC_PREC  \\\n",
       "0            * sig Dra  19 32 21.5899  +69 39 40.236      8.0       8.0   \n",
       "0            V* EK Cet  03 10 15.4722  +05 54 31.471      8.0       8.0   \n",
       "0            Wolf  359   10 56 28.865   +07 00 52.77      7.0       7.0   \n",
       "0  NAME Barnard's star  17 57 48.4980  +04 41 36.207      9.0       9.0   \n",
       "\n",
       "   COO_ERR_MAJA  COO_ERR_MINA  COO_ERR_ANGLE COO_QUAL COO_WAVELENGTH  \\\n",
       "0         0.976         0.694            0.0        A              O   \n",
       "0         0.299         0.239           90.0        A              O   \n",
       "0       110.000        90.000           90.0        B              N   \n",
       "0        15.100        10.720           90.0        A              O   \n",
       "\n",
       "           COO_BIBCODE      PMRA      PMDEC RA_2_A_ICRS_J2018_07_2000  \\\n",
       "0  2016A&A...595A...2G   597.482  -1738.313             19 32 23.6597   \n",
       "0  2016A&A...595A...2G  -122.104   -563.195             03 10 15.3243   \n",
       "0  2003yCat.2246....0C -3842.000  -2725.000              10 56 24.202   \n",
       "0  2007A&A...474..653V  -798.580  10328.120             17 57 47.5326   \n",
       "\n",
       "  DEC_2_D_ICRS_J2018_07_2000    VMAG    RMAG   IMAG   JMAG      SIMBADNAME  \n",
       "0              +69 39 08.827   4.680   4.040  3.630  3.420  Sigma Draconis  \n",
       "0              +05 54 21.294  11.847  10.822  9.571  8.363          EK Cet  \n",
       "0               +07 00 03.53  13.507  11.684  9.507  7.085        Wolf 359  \n",
       "0              +04 44 42.836   9.511   8.298  6.741  5.244          GJ 699  "
      ]
     },
     "execution_count": 3,
     "metadata": {},
     "output_type": "execute_result"
    }
   ],
   "source": [
    "dataframes = []\n",
    "for i, name in enumerate(df.name.values):\n",
    "    #name = name.split(\";\")[0]\n",
    "    print(i,name)\n",
    "    table = het_helper_functions.get_ra_dec_pmra_pmdec(name).to_pandas()\n",
    "    dataframes.append(table)\n",
    "    table[\"VMAG\"] = het_helper_functions.get_simbad_fluxes(name)[\"FLUX_V\"].values[0]\n",
    "    table[\"RMAG\"] = het_helper_functions.get_simbad_fluxes(name)[\"FLUX_R\"].values[0]\n",
    "    table[\"IMAG\"] = het_helper_functions.get_simbad_fluxes(name)[\"FLUX_I\"].values[0]\n",
    "    table[\"JMAG\"] = het_helper_functions.get_simbad_fluxes(name)[\"FLUX_J\"].values[0]\n",
    "    table[\"SIMBADNAME\"] = name\n",
    "df_all = pd.concat(dataframes)\n",
    "df_all = df_all.fillna(0.)\n",
    "df_all"
   ]
  },
  {
   "cell_type": "markdown",
   "metadata": {},
   "source": [
    "## Make handy columns"
   ]
  },
  {
   "cell_type": "code",
   "execution_count": 4,
   "metadata": {},
   "outputs": [],
   "source": [
    "df[\"PMRA\"]        = df_all[\"PMRA\"].values\n",
    "df[\"PMDEC\"]       = df_all[\"PMDEC\"].values\n",
    "df[\"RA_SIMBAD\"]   = het_helper_functions.raHMS2deg(df_all[\"RA\"].values)\n",
    "df[\"DEC_SIMBAD\"]  = het_helper_functions.decDeg2deg(df_all[\"DEC\"].values)\n",
    "df[\"MAIN_ID\"]     = [het_helper_functions.compactString(i) for i in df_all[\"SIMBADNAME\"].values]\n",
    "df[\"VMAG\"]        = df_all[\"VMAG\"].values\n",
    "df[\"RMAG\"]        = df_all[\"RMAG\"].values\n",
    "df[\"IMAG\"]        = df_all[\"IMAG\"].values\n",
    "df[\"JMAG\"]        = df_all[\"JMAG\"].values\n",
    "\n",
    "# Remove nans\n",
    "#df = df.fillna(0) "
   ]
  },
  {
   "cell_type": "markdown",
   "metadata": {},
   "source": [
    "# Check magnitudes"
   ]
  },
  {
   "cell_type": "code",
   "execution_count": 5,
   "metadata": {},
   "outputs": [
    {
     "data": {
      "text/html": [
       "<div>\n",
       "<style scoped>\n",
       "    .dataframe tbody tr th:only-of-type {\n",
       "        vertical-align: middle;\n",
       "    }\n",
       "\n",
       "    .dataframe tbody tr th {\n",
       "        vertical-align: top;\n",
       "    }\n",
       "\n",
       "    .dataframe thead th {\n",
       "        text-align: right;\n",
       "    }\n",
       "</style>\n",
       "<table border=\"1\" class=\"dataframe\">\n",
       "  <thead>\n",
       "    <tr style=\"text-align: right;\">\n",
       "      <th></th>\n",
       "      <th>name</th>\n",
       "      <th>RAJ2000</th>\n",
       "      <th>DECJ2000</th>\n",
       "      <th>PMRA</th>\n",
       "      <th>PMDEC</th>\n",
       "      <th>RA_SIMBAD</th>\n",
       "      <th>DEC_SIMBAD</th>\n",
       "      <th>MAIN_ID</th>\n",
       "      <th>VMAG</th>\n",
       "      <th>RMAG</th>\n",
       "      <th>IMAG</th>\n",
       "      <th>JMAG</th>\n",
       "    </tr>\n",
       "  </thead>\n",
       "  <tbody>\n",
       "    <tr>\n",
       "      <th>1</th>\n",
       "      <td>EK Cet</td>\n",
       "      <td>47.564467</td>\n",
       "      <td>5.908742</td>\n",
       "      <td>-122.104</td>\n",
       "      <td>-563.195</td>\n",
       "      <td>47.564467</td>\n",
       "      <td>5.908742</td>\n",
       "      <td>EK_Cet</td>\n",
       "      <td>11.847</td>\n",
       "      <td>10.822</td>\n",
       "      <td>9.571</td>\n",
       "      <td>8.363</td>\n",
       "    </tr>\n",
       "    <tr>\n",
       "      <th>2</th>\n",
       "      <td>Wolf 359</td>\n",
       "      <td>164.120270</td>\n",
       "      <td>7.014658</td>\n",
       "      <td>-3842.000</td>\n",
       "      <td>-2725.000</td>\n",
       "      <td>164.120271</td>\n",
       "      <td>7.014658</td>\n",
       "      <td>Wolf_359</td>\n",
       "      <td>13.507</td>\n",
       "      <td>11.684</td>\n",
       "      <td>9.507</td>\n",
       "      <td>7.085</td>\n",
       "    </tr>\n",
       "    <tr>\n",
       "      <th>3</th>\n",
       "      <td>GJ 699</td>\n",
       "      <td>269.452075</td>\n",
       "      <td>4.693391</td>\n",
       "      <td>-798.580</td>\n",
       "      <td>10328.120</td>\n",
       "      <td>269.452075</td>\n",
       "      <td>4.693391</td>\n",
       "      <td>GJ_699</td>\n",
       "      <td>9.511</td>\n",
       "      <td>8.298</td>\n",
       "      <td>6.741</td>\n",
       "      <td>5.244</td>\n",
       "    </tr>\n",
       "  </tbody>\n",
       "</table>\n",
       "</div>"
      ],
      "text/plain": [
       "       name     RAJ2000  DECJ2000      PMRA      PMDEC   RA_SIMBAD  \\\n",
       "1    EK Cet   47.564467  5.908742  -122.104   -563.195   47.564467   \n",
       "2  Wolf 359  164.120270  7.014658 -3842.000  -2725.000  164.120271   \n",
       "3    GJ 699  269.452075  4.693391  -798.580  10328.120  269.452075   \n",
       "\n",
       "   DEC_SIMBAD   MAIN_ID    VMAG    RMAG   IMAG   JMAG  \n",
       "1    5.908742    EK_Cet  11.847  10.822  9.571  8.363  \n",
       "2    7.014658  Wolf_359  13.507  11.684  9.507  7.085  \n",
       "3    4.693391    GJ_699   9.511   8.298  6.741  5.244  "
      ]
     },
     "execution_count": 5,
     "metadata": {},
     "output_type": "execute_result"
    }
   ],
   "source": [
    "# Make a magnitude cut, don't want them to be too bright in J\n",
    "df_cut = df[df.JMAG.values > 5.]\n",
    "df_cut"
   ]
  },
  {
   "cell_type": "code",
   "execution_count": 6,
   "metadata": {},
   "outputs": [
    {
     "data": {
      "text/plain": [
       "[<matplotlib.text.Text at 0x109e9d190>,\n",
       " <matplotlib.text.Text at 0x109e9dcd0>,\n",
       " <matplotlib.text.Text at 0x109eab210>,\n",
       " <matplotlib.text.Text at 0x109eabf10>]"
      ]
     },
     "execution_count": 6,
     "metadata": {},
     "output_type": "execute_result"
    },
    {
     "data": {
      "image/png": "[encoded data removed]",
      "text/plain": [
       "<matplotlib.figure.Figure at 0x10e841d10>"
      ]
     },
     "metadata": {},
     "output_type": "display_data"
    }
   ],
   "source": [
    "fig, ax = plt.subplots()\n",
    "for i in range(len(df_cut)):\n",
    "    d = [df_cut.VMAG.values[i],\n",
    "         df_cut.RMAG.values[i],\n",
    "         df_cut.IMAG.values[i],\n",
    "         df_cut.JMAG.values[i]]\n",
    "    ax.plot(d)\n",
    "ax.set_ylabel(\"Magnitude\")\n",
    "ax.set_xticks([0,1,2,3])\n",
    "ax.set_xticklabels([\"V\",\"R\",\"I\",\"J\"])"
   ]
  },
  {
   "cell_type": "code",
   "execution_count": 7,
   "metadata": {},
   "outputs": [],
   "source": [
    "#### Checking that the arrays are the same"
   ]
  },
  {
   "cell_type": "code",
   "execution_count": 8,
   "metadata": {},
   "outputs": [
    {
     "name": "stdout",
     "output_type": "stream",
     "text": [
      "True\n",
      "True\n"
     ]
    }
   ],
   "source": [
    "print(np.allclose(df_cut[\"RAJ2000\"],df_cut[\"RA_SIMBAD\"],0.001))\n",
    "print(np.allclose(df_cut[\"DECJ2000\"],df_cut[\"DEC_SIMBAD\"],0.001))"
   ]
  },
  {
   "cell_type": "markdown",
   "metadata": {},
   "source": [
    "# Check which targets are observable"
   ]
  },
  {
   "cell_type": "code",
   "execution_count": 9,
   "metadata": {},
   "outputs": [
    {
     "name": "stderr",
     "output_type": "stream",
     "text": [
      "\r",
      "  0%|          | 0/12 [00:00<?, ?it/s]"
     ]
    },
    {
     "name": "stdout",
     "output_type": "stream",
     "text": [
      "Using Twilight = -18.0\n",
      "Creating array of 12 nights to check observability\n",
      "Calculating Sunrise/Sunset Times\n"
     ]
    },
    {
     "name": "stderr",
     "output_type": "stream",
     "text": [
      "100%|██████████| 12/12 [00:07<00:00,  1.66it/s]\n",
      "  0%|          | 0/12 [00:00<?, ?it/s]"
     ]
    },
    {
     "name": "stdout",
     "output_type": "stream",
     "text": [
      "Calculating Local Sidereal Times\n"
     ]
    },
    {
     "name": "stderr",
     "output_type": "stream",
     "text": [
      "100%|██████████| 12/12 [00:04<00:00,  2.92it/s]"
     ]
    },
    {
     "name": "stdout",
     "output_type": "stream",
     "text": [
      "Finished loading observability limits for all nights\n"
     ]
    },
    {
     "name": "stderr",
     "output_type": "stream",
     "text": [
      "\n",
      "../src/het_obs.py:89: RuntimeWarning: invalid value encountered in arccos\n",
      "  h1 = degrees(arccos( (sin(alt1) - sin(decs_rad)*sin(phi)) / (cos(decs_rad)*cos(phi)) ))\n",
      "../src/het_obs.py:90: RuntimeWarning: invalid value encountered in arccos\n",
      "  h2 = degrees(arccos( (sin(alt2) - sin(decs_rad)*sin(phi)) / (cos(decs_rad)*cos(phi)) ))\n"
     ]
    }
   ],
   "source": [
    "# It can take a while to initialize this class, does a few calculations\n",
    "HTO = het_obs.HETObservability('2018-03-20 05:00:00','2018-04-01 05:00:00')"
   ]
  },
  {
   "cell_type": "code",
   "execution_count": 10,
   "metadata": {},
   "outputs": [
    {
     "name": "stdout",
     "output_type": "stream",
     "text": [
      "Loaded de421.bsp\n",
      "Coordinates at 2000.000000: RA=3:10:15.4722 DEC=5:54:31.4718\n",
      "with  PMRA=-122.104 PMDEC=-563.195\n",
      "Coordinates at 2018.229983: RA=3:10:15.323 DEC=5:54:21.204\n",
      "\n",
      "Coordinates at 2000.000000: RA=10:56:28.8654 DEC=7:00:52.7737\n",
      "with  PMRA=-3842.0 PMDEC=-2725.0\n",
      "Coordinates at 2018.229983: RA=10:56:24.1606 DEC=7:00:03.0918\n",
      "\n",
      "Coordinates at 2000.000000: RA=17:57:48.4981 DEC=4:41:36.1927\n",
      "with  PMRA=-798.58 PMDEC=10328.12\n",
      "Coordinates at 2018.229983: RA=17:57:47.5241 DEC=4:44:44.4884\n",
      "\n",
      "Target is observable on 0 days out of 12\n",
      "Target is observable on 12 days out of 12\n",
      "Target is observable on 12 days out of 12\n"
     ]
    }
   ],
   "source": [
    "# Epoch for March 25th, 2018\n",
    "EPOCH   = 2018. + (31. + 28. + 25.)/365.245\n",
    "A = het_helper_functions.AngleWithProperMotion(epoch=EPOCH)\n",
    "cc_new = [A.radec_with_proper_motion(df_cut[\"RA_SIMBAD\"].values[i],\n",
    "                                     df_cut[\"DEC_SIMBAD\"].values[i],\n",
    "                                     df_cut[\"PMRA\"].values[i],\n",
    "                                     df_cut[\"PMDEC\"].values[i],verbose=True) for i in range(len(df_cut))]\n",
    "# We want the number of observable days\n",
    "observable_days = [len(HTO.get_observable_days(c,verbose=True)) for c in cc_new] \n",
    "df_obs = df_cut[np.array(observable_days)>0]"
   ]
  },
  {
   "cell_type": "code",
   "execution_count": 11,
   "metadata": {},
   "outputs": [
    {
     "data": {
      "text/plain": [
       "[('EK Cet', 0), ('Wolf 359', 12), ('GJ 699', 12)]"
      ]
     },
     "execution_count": 11,
     "metadata": {},
     "output_type": "execute_result"
    }
   ],
   "source": [
    "# check which targets are not observable\n",
    "zip(df_cut.name.values,observable_days)"
   ]
  },
  {
   "cell_type": "markdown",
   "metadata": {},
   "source": [
    "# Create Finder Charts"
   ]
  },
  {
   "cell_type": "code",
   "execution_count": 12,
   "metadata": {},
   "outputs": [],
   "source": [
    "# Start finderchart maker\n",
    "FM = het_obs.FinderChartMaker()"
   ]
  },
  {
   "cell_type": "code",
   "execution_count": 13,
   "metadata": {},
   "outputs": [
    {
     "name": "stdout",
     "output_type": "stream",
     "text": [
      "0 Wolf_359 164.1202708333333 7.014658333333333\n",
      "1 GJ_699 269.452075 4.693390833333334\n",
      "big radius\n"
     ]
    }
   ],
   "source": [
    "# Make finder charts\n",
    "for i in range(len(df_obs)):\n",
    "    print(i,\n",
    "          df_obs.MAIN_ID.values[i],\n",
    "          df_obs.RA_SIMBAD.values[i],\n",
    "          df_obs.DEC_SIMBAD.values[i])\n",
    "    FM.make_chart_shift(ra=df_obs[\"RA_SIMBAD\"].values[i],\n",
    "                        de=df_obs[\"DEC_SIMBAD\"].values[i],\n",
    "                        pmra=df_obs[\"PMRA\"].values[i],\n",
    "                        pmde=df_obs[\"PMDEC\"].values[i],\n",
    "                        name=df_obs[\"MAIN_ID\"].values[i],\n",
    "                        outdir=\"../data/hpf/findercharts/\")"
   ]
  },
  {
   "cell_type": "markdown",
   "metadata": {},
   "source": [
    "# Create TSL file"
   ]
  },
  {
   "cell_type": "code",
   "execution_count": 14,
   "metadata": {},
   "outputs": [],
   "source": [
    "# Epoch for January 26, 2018\n",
    "vmag = df_obs[\"VMAG\"].values       # Might be better to use imag here for HPF Manta camera,\n",
    "                                   # but imag is not always available from Simbad.\n",
    "exptime = 60.*np.ones(len(df_obs)) # Assume 60s exposure time flat. Not really representative. Will change in future.\n",
    "repeat_exp = 1.*np.ones(len(df_obs))"
   ]
  },
  {
   "cell_type": "code",
   "execution_count": 15,
   "metadata": {},
   "outputs": [
    {
     "name": "stdout",
     "output_type": "stream",
     "text": [
      "Number of visits = 10\n",
      "Instrument = HPF\n",
      "Program = PSU18-1-XXX\n",
      "Loaded de421.bsp\n",
      "Printed TSL file to ../data/hpf/tsl/example_hpf_tsl.tsl\n"
     ]
    }
   ],
   "source": [
    "het_helper_functions.print_TSL(names=df_obs[\"MAIN_ID\"].values,\n",
    "                               vmag=vmag,\n",
    "                               priority=1*np.ones(len(df_obs)),\n",
    "                               ra=df_obs[\"RA_SIMBAD\"].values,\n",
    "                               dec=df_obs[\"DEC_SIMBAD\"].values,\n",
    "                               pmra=df_obs[\"PMRA\"].values,\n",
    "                               pmdec=df_obs[\"PMDEC\"].values,\n",
    "                               exptime=exptime, # assume a flat exposure time, this needs to change in future\n",
    "                               outputname=\"../data/hpf/tsl/example_hpf_tsl.tsl\",\n",
    "                               epoch=EPOCH, # current epoch (~ end of March)\n",
    "                               repeat_exposures=repeat_exp, # just repeat once\n",
    "                               program=\"PSU18-1-XXX\",\n",
    "                               instrument=\"HPF\", \n",
    "                               visits=10)  # Put 10 visits for engineering runs, so it doesn't get completed right away"
   ]
  },
  {
   "cell_type": "code",
   "execution_count": 16,
   "metadata": {},
   "outputs": [],
   "source": [
    "# Would suggest to take a close look at the file, and cross check that things look ok before submitting !\n",
    "# - Especially RAs and DECs, and exposure times"
   ]
  },
  {
   "cell_type": "code",
   "execution_count": 17,
   "metadata": {},
   "outputs": [
    {
     "name": "stdout",
     "output_type": "stream",
     "text": [
      "COMMON\r\n",
      "   PROGRAM PSU18-1-XXX\r\n",
      "   SEEING 3.0\r\n",
      "   SKYTRANS S\r\n",
      "   NUMEXP 1\r\n",
      "   VISITS 10\r\n",
      "   STDCALS Y\r\n",
      "   SNWAVE 6000\r\n",
      "   SNGOAL 200\r\n",
      "   SKYBRIGHT 18\r\n",
      "   SKYCALS Y\r\n",
      "   TELL Y\r\n",
      "TRACK\r\n",
      "   OBJECT Wolf_359\r\n",
      "   MAG 14\r\n",
      "   PRI 1\r\n",
      "   RA 10:56:24.16\r\n",
      "   DEC 7:00:03.09\r\n",
      "ACTION_LIST\r\n",
      "   INSTRUMENT      EXP\r\n",
      "      HPF 60\r\n",
      "TRACK\r\n",
      "   OBJECT GJ_699\r\n",
      "   MAG 10\r\n",
      "   PRI 1\r\n",
      "   RA 17:57:47.52\r\n",
      "   DEC 4:44:44.49\r\n",
      "ACTION_LIST\r\n",
      "   INSTRUMENT      EXP\r\n",
      "      HPF 60"
     ]
    }
   ],
   "source": [
    "cat \"../data/hpf/tsl/example_hpf_tsl.tsl\""
   ]
  },
  {
   "cell_type": "code",
   "execution_count": null,
   "metadata": {},
   "outputs": [],
   "source": []
  }
 ],
 "metadata": {
  "kernelspec": {
   "display_name": "Python [Root]",
   "language": "python",
   "name": "Python [Root]"
  },
  "language_info": {
   "codemirror_mode": {
    "name": "ipython",
    "version": 2
   },
   "file_extension": ".py",
   "mimetype": "text/x-python",
   "name": "python",
   "nbconvert_exporter": "python",
   "pygments_lexer": "ipython2",
   "version": "2.7.12"
  }
 },
 "nbformat": 4,
 "nbformat_minor": 2
}
