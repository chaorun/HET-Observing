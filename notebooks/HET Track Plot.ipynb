{
 "cells": [
  {
   "cell_type": "markdown",
   "metadata": {},
   "source": [
    "# HET Track plot\n",
    "- Plot a plot showing the HET track for a given target, showing the area of HET illuminated, as a function of time.\n",
    "- TODO: Add track calculating code (from Joe Ninan's pyHETObs)."
   ]
  },
  {
   "cell_type": "code",
   "execution_count": 4,
   "metadata": {},
   "outputs": [],
   "source": [
    "import pandas as pd\n",
    "import numpy as np\n",
    "import astropy\n",
    "import matplotlib.pyplot as plt\n",
    "import time\n",
    "import matplotlib\n",
    "import astropy.time\n",
    "from astroplan import Observer\n",
    "import sys\n",
    "sys.path.append(\"../src/\")\n",
    "import plot_het_tracks"
   ]
  },
  {
   "cell_type": "markdown",
   "metadata": {},
   "source": [
    "# Read track data"
   ]
  },
  {
   "cell_type": "code",
   "execution_count": 17,
   "metadata": {},
   "outputs": [
    {
     "data": {
      "text/html": [
       "<div>\n",
       "<style scoped>\n",
       "    .dataframe tbody tr th:only-of-type {\n",
       "        vertical-align: middle;\n",
       "    }\n",
       "\n",
       "    .dataframe tbody tr th {\n",
       "        vertical-align: top;\n",
       "    }\n",
       "\n",
       "    .dataframe thead th {\n",
       "        text-align: right;\n",
       "    }\n",
       "</style>\n",
       "<table border=\"1\" class=\"dataframe\">\n",
       "  <thead>\n",
       "    <tr style=\"text-align: right;\">\n",
       "      <th></th>\n",
       "      <th>target</th>\n",
       "      <th>e_start</th>\n",
       "      <th>e_center</th>\n",
       "      <th>e_stop</th>\n",
       "      <th>e_dur</th>\n",
       "      <th>e_az</th>\n",
       "      <th>e_area</th>\n",
       "      <th>e_xtrack</th>\n",
       "      <th>e_ytrack</th>\n",
       "      <th>e_moon_sep</th>\n",
       "      <th>w_start</th>\n",
       "      <th>w_center</th>\n",
       "      <th>w_stop</th>\n",
       "      <th>w_dur</th>\n",
       "      <th>w_az</th>\n",
       "      <th>w_area</th>\n",
       "      <th>w_xtrack</th>\n",
       "      <th>w_ytrack</th>\n",
       "      <th>w_moon_sep</th>\n",
       "    </tr>\n",
       "  </thead>\n",
       "  <tbody>\n",
       "    <tr>\n",
       "      <th>0</th>\n",
       "      <td>EK Cet</td>\n",
       "      <td>2018-02-26T21:21:08.990</td>\n",
       "      <td>2018-02-26T21:54:51.380</td>\n",
       "      <td>2018-02-26T22:28:31.956</td>\n",
       "      <td>4042.966199127364</td>\n",
       "      <td>129.511510</td>\n",
       "      <td>49.538157</td>\n",
       "      <td>[-2022.389899362025, -1981.5518569465971, -194...</td>\n",
       "      <td>[23.78010564559643, 23.929574624972517, 24.069...</td>\n",
       "      <td>68.909040</td>\n",
       "      <td>2018-02-27T00:50:58.640</td>\n",
       "      <td>2018-02-27T01:23:52.915</td>\n",
       "      <td>2018-02-27T01:58:19.472</td>\n",
       "      <td>4040.8316925828785</td>\n",
       "      <td>229.929309</td>\n",
       "      <td>49.481416</td>\n",
       "      <td>[-1974.2755266575134, -1933.459044914252, -189...</td>\n",
       "      <td>[24.761700827267013, 24.874513872669684, 24.97...</td>\n",
       "      <td>71.024093</td>\n",
       "    </tr>\n",
       "    <tr>\n",
       "      <th>1</th>\n",
       "      <td>Wolf 359</td>\n",
       "      <td>2018-02-27T05:01:57.748</td>\n",
       "      <td>2018-02-27T05:35:44.263</td>\n",
       "      <td>2018-02-27T06:09:28.242</td>\n",
       "      <td>4050.4948347609766</td>\n",
       "      <td>127.094683</td>\n",
       "      <td>49.538174</td>\n",
       "      <td>[-2026.5151205278748, -1985.601031287865, -194...</td>\n",
       "      <td>[23.573113315255686, 23.7081921916603, 23.8287...</td>\n",
       "      <td>42.414764</td>\n",
       "      <td>2018-02-27T08:41:18.258</td>\n",
       "      <td>2018-02-27T09:15:24.693</td>\n",
       "      <td>2018-02-27T09:48:48.927</td>\n",
       "      <td>4050.6685198061723</td>\n",
       "      <td>233.148286</td>\n",
       "      <td>49.533021</td>\n",
       "      <td>[-2046.4348539505254, -2005.5190103161194, -19...</td>\n",
       "      <td>[24.67787684346749, 24.795421196275324, 24.903...</td>\n",
       "      <td>40.177665</td>\n",
       "    </tr>\n",
       "  </tbody>\n",
       "</table>\n",
       "</div>"
      ],
      "text/plain": [
       "     target                  e_start                 e_center  \\\n",
       "0    EK Cet  2018-02-26T21:21:08.990  2018-02-26T21:54:51.380   \n",
       "1  Wolf 359  2018-02-27T05:01:57.748  2018-02-27T05:35:44.263   \n",
       "\n",
       "                    e_stop               e_dur        e_az     e_area  \\\n",
       "0  2018-02-26T22:28:31.956   4042.966199127364  129.511510  49.538157   \n",
       "1  2018-02-27T06:09:28.242  4050.4948347609766  127.094683  49.538174   \n",
       "\n",
       "                                            e_xtrack  \\\n",
       "0  [-2022.389899362025, -1981.5518569465971, -194...   \n",
       "1  [-2026.5151205278748, -1985.601031287865, -194...   \n",
       "\n",
       "                                            e_ytrack  e_moon_sep  \\\n",
       "0  [23.78010564559643, 23.929574624972517, 24.069...   68.909040   \n",
       "1  [23.573113315255686, 23.7081921916603, 23.8287...   42.414764   \n",
       "\n",
       "                   w_start                 w_center                   w_stop  \\\n",
       "0  2018-02-27T00:50:58.640  2018-02-27T01:23:52.915  2018-02-27T01:58:19.472   \n",
       "1  2018-02-27T08:41:18.258  2018-02-27T09:15:24.693  2018-02-27T09:48:48.927   \n",
       "\n",
       "                w_dur        w_az     w_area  \\\n",
       "0  4040.8316925828785  229.929309  49.481416   \n",
       "1  4050.6685198061723  233.148286  49.533021   \n",
       "\n",
       "                                            w_xtrack  \\\n",
       "0  [-1974.2755266575134, -1933.459044914252, -189...   \n",
       "1  [-2046.4348539505254, -2005.5190103161194, -19...   \n",
       "\n",
       "                                            w_ytrack  w_moon_sep  \n",
       "0  [24.761700827267013, 24.874513872669684, 24.97...   71.024093  \n",
       "1  [24.67787684346749, 24.795421196275324, 24.903...   40.177665  "
      ]
     },
     "execution_count": 17,
     "metadata": {},
     "output_type": "execute_result"
    }
   ],
   "source": [
    "df = pd.read_pickle(\"../data/hpf/tracks/df_example_tracks_20180227_050000.pickle\")\n",
    "df"
   ]
  },
  {
   "cell_type": "markdown",
   "metadata": {},
   "source": [
    "# Define interactive backend to do live plot"
   ]
  },
  {
   "cell_type": "code",
   "execution_count": 20,
   "metadata": {},
   "outputs": [],
   "source": [
    "# mac:\n",
    "%matplotlib osx \n",
    "# linux:\n",
    "#%matplotlib GTKAgg \n",
    "#%matplotlib nbagg  \n",
    "#%matplotlib\n",
    "#matplotlib.rcsetup.all_backends"
   ]
  },
  {
   "cell_type": "code",
   "execution_count": 27,
   "metadata": {},
   "outputs": [
    {
     "data": {
      "text/plain": [
       "<module 'plot_het_tracks' from '../src/plot_het_tracks.py'>"
      ]
     },
     "execution_count": 27,
     "metadata": {},
     "output_type": "execute_result"
    }
   ],
   "source": [
    "reload(plot_het_tracks)"
   ]
  },
  {
   "cell_type": "code",
   "execution_count": 29,
   "metadata": {},
   "outputs": [
    {
     "name": "stdout",
     "output_type": "stream",
     "text": [
      "Delta days: 20\n",
      "Sunset 2018-03-19 01:02:26.537\n",
      "Sunrise 2018-03-19 13:04:54.870\n"
     ]
    }
   ],
   "source": [
    "# Plot interactive plot\n",
    "plot_het_tracks.plot_het_tracks(df,night_observing='2018-03-19',num_live_update_sec=30,plot_current_time=True)"
   ]
  },
  {
   "cell_type": "markdown",
   "metadata": {},
   "source": [
    "#### Example track\n",
    "- Blue line automatically updates in live plots for current time, useful for on-the-fly observing\n",
    "- Different shaded regions denote different twilights (0, -6, -12, -18degree, respectively). In this example, EK Cet is only visible during the day.\n",
    "- Number in paranthesis shows the moon distance in degrees from center of track\n",
    "<img src=\"../data/hpf/tracks/example_track.png\">"
   ]
  },
  {
   "cell_type": "code",
   "execution_count": null,
   "metadata": {},
   "outputs": [],
   "source": []
  }
 ],
 "metadata": {
  "kernelspec": {
   "display_name": "Python [Root]",
   "language": "python",
   "name": "Python [Root]"
  },
  "language_info": {
   "codemirror_mode": {
    "name": "ipython",
    "version": 2
   },
   "file_extension": ".py",
   "mimetype": "text/x-python",
   "name": "python",
   "nbconvert_exporter": "python",
   "pygments_lexer": "ipython2",
   "version": "2.7.12"
  }
 },
 "nbformat": 4,
 "nbformat_minor": 2
}
